{
 "cells": [
  {
   "cell_type": "code",
   "execution_count": 1,
   "id": "0e73b66f-e417-4f19-b53f-ce0dffb87428",
   "metadata": {},
   "outputs": [],
   "source": [
    "import pandas as pd"
   ]
  },
  {
   "cell_type": "code",
   "execution_count": 19,
   "id": "51332bb0-b4e4-47b2-af43-e3f7f3b866ae",
   "metadata": {},
   "outputs": [
    {
     "data": {
      "text/plain": [
       "(250, 14)"
      ]
     },
     "execution_count": 19,
     "metadata": {},
     "output_type": "execute_result"
    }
   ],
   "source": [
    "df = pd.read_csv('test_worklog.csv')\n",
    "\n",
    "df.shape"
   ]
  },
  {
   "cell_type": "code",
   "execution_count": 20,
   "id": "51a7d46d-e3a5-4b1a-8e2c-86f09a1e89b0",
   "metadata": {},
   "outputs": [
    {
     "data": {
      "text/html": [
       "<div>\n",
       "<style scoped>\n",
       "    .dataframe tbody tr th:only-of-type {\n",
       "        vertical-align: middle;\n",
       "    }\n",
       "\n",
       "    .dataframe tbody tr th {\n",
       "        vertical-align: top;\n",
       "    }\n",
       "\n",
       "    .dataframe thead th {\n",
       "        text-align: right;\n",
       "    }\n",
       "</style>\n",
       "<table border=\"1\" class=\"dataframe\">\n",
       "  <thead>\n",
       "    <tr style=\"text-align: right;\">\n",
       "      <th></th>\n",
       "      <th>Project</th>\n",
       "      <th>Client</th>\n",
       "      <th>Description</th>\n",
       "      <th>Task</th>\n",
       "      <th>User</th>\n",
       "      <th>Group</th>\n",
       "      <th>Email</th>\n",
       "      <th>Tags</th>\n",
       "      <th>Start Date</th>\n",
       "      <th>Start Time</th>\n",
       "      <th>End Date</th>\n",
       "      <th>End Time</th>\n",
       "      <th>Duration (h)</th>\n",
       "      <th>Duration (decimal)</th>\n",
       "    </tr>\n",
       "  </thead>\n",
       "  <tbody>\n",
       "    <tr>\n",
       "      <th>0</th>\n",
       "      <td>Data Science</td>\n",
       "      <td>NaN</td>\n",
       "      <td>[DS-818]: improve the store-city-state matchin...</td>\n",
       "      <td>DS-818</td>\n",
       "      <td>Joseph Simon Q. Rojo</td>\n",
       "      <td>Platform</td>\n",
       "      <td>joseph.rojo@firstperformance.com</td>\n",
       "      <td>Sub-task</td>\n",
       "      <td>30/09/2022</td>\n",
       "      <td>20:40:26</td>\n",
       "      <td>30/09/2022</td>\n",
       "      <td>23:04:10</td>\n",
       "      <td>02:23:44</td>\n",
       "      <td>2.40</td>\n",
       "    </tr>\n",
       "    <tr>\n",
       "      <th>1</th>\n",
       "      <td>FP Card Controls</td>\n",
       "      <td>NaN</td>\n",
       "      <td>[FPCARD-3500]: [SUBSCRIPTION_MANAGEMENT] Discu...</td>\n",
       "      <td>FPCARD-3500</td>\n",
       "      <td>Joseph Simon Q. Rojo</td>\n",
       "      <td>Platform</td>\n",
       "      <td>joseph.rojo@firstperformance.com</td>\n",
       "      <td>Task</td>\n",
       "      <td>30/09/2022</td>\n",
       "      <td>20:12:46</td>\n",
       "      <td>30/09/2022</td>\n",
       "      <td>20:40:26</td>\n",
       "      <td>00:27:40</td>\n",
       "      <td>0.46</td>\n",
       "    </tr>\n",
       "    <tr>\n",
       "      <th>2</th>\n",
       "      <td>FP Card Controls</td>\n",
       "      <td>NaN</td>\n",
       "      <td>[FPCARD-3353]: Regular Meetings - Sprint 26</td>\n",
       "      <td>FPCARD-3353</td>\n",
       "      <td>Joseph Simon Q. Rojo</td>\n",
       "      <td>Platform</td>\n",
       "      <td>joseph.rojo@firstperformance.com</td>\n",
       "      <td>Task</td>\n",
       "      <td>30/09/2022</td>\n",
       "      <td>18:26:07</td>\n",
       "      <td>30/09/2022</td>\n",
       "      <td>20:12:46</td>\n",
       "      <td>01:46:39</td>\n",
       "      <td>1.78</td>\n",
       "    </tr>\n",
       "    <tr>\n",
       "      <th>3</th>\n",
       "      <td>Data Science</td>\n",
       "      <td>NaN</td>\n",
       "      <td>[DS-818]: improve the store-city-state matchin...</td>\n",
       "      <td>DS-818</td>\n",
       "      <td>Joseph Simon Q. Rojo</td>\n",
       "      <td>Platform</td>\n",
       "      <td>joseph.rojo@firstperformance.com</td>\n",
       "      <td>Sub-task</td>\n",
       "      <td>30/09/2022</td>\n",
       "      <td>18:07:17</td>\n",
       "      <td>30/09/2022</td>\n",
       "      <td>18:26:07</td>\n",
       "      <td>00:18:50</td>\n",
       "      <td>0.31</td>\n",
       "    </tr>\n",
       "    <tr>\n",
       "      <th>4</th>\n",
       "      <td>FP Card Controls</td>\n",
       "      <td>NaN</td>\n",
       "      <td>[FPCARD-3353]: Regular Meetings - Sprint 26</td>\n",
       "      <td>FPCARD-3353</td>\n",
       "      <td>Joseph Simon Q. Rojo</td>\n",
       "      <td>Platform</td>\n",
       "      <td>joseph.rojo@firstperformance.com</td>\n",
       "      <td>Task</td>\n",
       "      <td>30/09/2022</td>\n",
       "      <td>17:20:19</td>\n",
       "      <td>30/09/2022</td>\n",
       "      <td>18:07:17</td>\n",
       "      <td>00:46:58</td>\n",
       "      <td>0.78</td>\n",
       "    </tr>\n",
       "  </tbody>\n",
       "</table>\n",
       "</div>"
      ],
      "text/plain": [
       "            Project  Client  \\\n",
       "0      Data Science     NaN   \n",
       "1  FP Card Controls     NaN   \n",
       "2  FP Card Controls     NaN   \n",
       "3      Data Science     NaN   \n",
       "4  FP Card Controls     NaN   \n",
       "\n",
       "                                         Description         Task  \\\n",
       "0  [DS-818]: improve the store-city-state matchin...       DS-818   \n",
       "1  [FPCARD-3500]: [SUBSCRIPTION_MANAGEMENT] Discu...  FPCARD-3500   \n",
       "2        [FPCARD-3353]: Regular Meetings - Sprint 26  FPCARD-3353   \n",
       "3  [DS-818]: improve the store-city-state matchin...       DS-818   \n",
       "4        [FPCARD-3353]: Regular Meetings - Sprint 26  FPCARD-3353   \n",
       "\n",
       "                   User     Group                             Email      Tags  \\\n",
       "0  Joseph Simon Q. Rojo  Platform  joseph.rojo@firstperformance.com  Sub-task   \n",
       "1  Joseph Simon Q. Rojo  Platform  joseph.rojo@firstperformance.com      Task   \n",
       "2  Joseph Simon Q. Rojo  Platform  joseph.rojo@firstperformance.com      Task   \n",
       "3  Joseph Simon Q. Rojo  Platform  joseph.rojo@firstperformance.com  Sub-task   \n",
       "4  Joseph Simon Q. Rojo  Platform  joseph.rojo@firstperformance.com      Task   \n",
       "\n",
       "   Start Date Start Time    End Date  End Time Duration (h)  \\\n",
       "0  30/09/2022   20:40:26  30/09/2022  23:04:10     02:23:44   \n",
       "1  30/09/2022   20:12:46  30/09/2022  20:40:26     00:27:40   \n",
       "2  30/09/2022   18:26:07  30/09/2022  20:12:46     01:46:39   \n",
       "3  30/09/2022   18:07:17  30/09/2022  18:26:07     00:18:50   \n",
       "4  30/09/2022   17:20:19  30/09/2022  18:07:17     00:46:58   \n",
       "\n",
       "   Duration (decimal)  \n",
       "0                2.40  \n",
       "1                0.46  \n",
       "2                1.78  \n",
       "3                0.31  \n",
       "4                0.78  "
      ]
     },
     "execution_count": 20,
     "metadata": {},
     "output_type": "execute_result"
    }
   ],
   "source": [
    "df.head()"
   ]
  },
  {
   "cell_type": "code",
   "execution_count": 4,
   "id": "4879e5bc-2fb0-4ec0-87ff-fa77f8e3de0d",
   "metadata": {},
   "outputs": [
    {
     "data": {
      "text/plain": [
       "Index(['Project', 'Client', 'Description', 'Task', 'User', 'Group', 'Email',\n",
       "       'Tags', 'Start Date', 'Start Time', 'End Date', 'End Time',\n",
       "       'Duration (h)', 'Duration (decimal)'],\n",
       "      dtype='object')"
      ]
     },
     "execution_count": 4,
     "metadata": {},
     "output_type": "execute_result"
    }
   ],
   "source": [
    "df.columns"
   ]
  },
  {
   "cell_type": "code",
   "execution_count": 5,
   "id": "79427266-6c81-4d85-87aa-023440d27d06",
   "metadata": {},
   "outputs": [],
   "source": [
    "df_work_logs = df[['End Date', 'Duration (decimal)']]"
   ]
  },
  {
   "cell_type": "code",
   "execution_count": 18,
   "id": "e2c99706-66e1-4825-9d70-7cf2aa9f87b9",
   "metadata": {},
   "outputs": [
    {
     "data": {
      "text/html": [
       "<div>\n",
       "<style scoped>\n",
       "    .dataframe tbody tr th:only-of-type {\n",
       "        vertical-align: middle;\n",
       "    }\n",
       "\n",
       "    .dataframe tbody tr th {\n",
       "        vertical-align: top;\n",
       "    }\n",
       "\n",
       "    .dataframe thead th {\n",
       "        text-align: right;\n",
       "    }\n",
       "</style>\n",
       "<table border=\"1\" class=\"dataframe\">\n",
       "  <thead>\n",
       "    <tr style=\"text-align: right;\">\n",
       "      <th></th>\n",
       "      <th>End Date</th>\n",
       "      <th>Duration (decimal)</th>\n",
       "    </tr>\n",
       "  </thead>\n",
       "  <tbody>\n",
       "    <tr>\n",
       "      <th>0</th>\n",
       "      <td>30/09/2022</td>\n",
       "      <td>2.40</td>\n",
       "    </tr>\n",
       "    <tr>\n",
       "      <th>1</th>\n",
       "      <td>30/09/2022</td>\n",
       "      <td>0.46</td>\n",
       "    </tr>\n",
       "    <tr>\n",
       "      <th>2</th>\n",
       "      <td>30/09/2022</td>\n",
       "      <td>1.78</td>\n",
       "    </tr>\n",
       "    <tr>\n",
       "      <th>3</th>\n",
       "      <td>30/09/2022</td>\n",
       "      <td>0.31</td>\n",
       "    </tr>\n",
       "    <tr>\n",
       "      <th>4</th>\n",
       "      <td>30/09/2022</td>\n",
       "      <td>0.78</td>\n",
       "    </tr>\n",
       "  </tbody>\n",
       "</table>\n",
       "</div>"
      ],
      "text/plain": [
       "     End Date  Duration (decimal)\n",
       "0  30/09/2022                2.40\n",
       "1  30/09/2022                0.46\n",
       "2  30/09/2022                1.78\n",
       "3  30/09/2022                0.31\n",
       "4  30/09/2022                0.78"
      ]
     },
     "execution_count": 18,
     "metadata": {},
     "output_type": "execute_result"
    }
   ],
   "source": [
    "df_work_logs.head()"
   ]
  },
  {
   "cell_type": "code",
   "execution_count": 7,
   "id": "acceb2b4-431b-4618-81dc-d2d6337c234b",
   "metadata": {},
   "outputs": [
    {
     "data": {
      "text/plain": [
       "<pandas.core.groupby.generic.DataFrameGroupBy object at 0x7f4f099113d0>"
      ]
     },
     "execution_count": 7,
     "metadata": {},
     "output_type": "execute_result"
    }
   ],
   "source": [
    "df_work_logs.groupby('End Date')"
   ]
  },
  {
   "cell_type": "code",
   "execution_count": 13,
   "id": "edf00107-32e0-493c-9043-bc8b1eaa2066",
   "metadata": {},
   "outputs": [
    {
     "data": {
      "text/plain": [
       "166.54"
      ]
     },
     "execution_count": 13,
     "metadata": {},
     "output_type": "execute_result"
    }
   ],
   "source": [
    "df_work_logs.groupby('End Date')['Duration (decimal)'].sum().sum()"
   ]
  },
  {
   "cell_type": "code",
   "execution_count": 21,
   "id": "540670b3-ae45-4acf-b1a5-9e0fa7c7fecc",
   "metadata": {},
   "outputs": [],
   "source": [
    "summary = df_work_logs.groupby('End Date').sum().sum()"
   ]
  },
  {
   "cell_type": "code",
   "execution_count": 17,
   "id": "f7f82f9c-fd9e-445c-b788-0639448b073a",
   "metadata": {},
   "outputs": [
    {
     "data": {
      "text/plain": [
       "Duration (decimal)    166.54\n",
       "dtype: float64"
      ]
     },
     "execution_count": 17,
     "metadata": {},
     "output_type": "execute_result"
    }
   ],
   "source": [
    "summary.sum()"
   ]
  },
  {
   "cell_type": "code",
   "execution_count": 22,
   "id": "b702fab1-615f-4317-a093-ed2a338553cf",
   "metadata": {},
   "outputs": [
    {
     "data": {
      "text/plain": [
       "Duration (decimal)    166.54\n",
       "dtype: float64"
      ]
     },
     "execution_count": 22,
     "metadata": {},
     "output_type": "execute_result"
    }
   ],
   "source": [
    "summary"
   ]
  },
  {
   "cell_type": "code",
   "execution_count": null,
   "id": "14c328b4-b6d5-481f-b19c-770c92c22e3b",
   "metadata": {},
   "outputs": [],
   "source": []
  }
 ],
 "metadata": {
  "kernelspec": {
   "display_name": "Python 3 (ipykernel)",
   "language": "python",
   "name": "python3"
  },
  "language_info": {
   "codemirror_mode": {
    "name": "ipython",
    "version": 3
   },
   "file_extension": ".py",
   "mimetype": "text/x-python",
   "name": "python",
   "nbconvert_exporter": "python",
   "pygments_lexer": "ipython3",
   "version": "3.9.0"
  }
 },
 "nbformat": 4,
 "nbformat_minor": 5
}
